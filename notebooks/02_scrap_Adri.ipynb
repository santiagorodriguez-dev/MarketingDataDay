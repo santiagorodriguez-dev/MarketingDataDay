{
 "cells": [
  {
   "cell_type": "code",
   "execution_count": null,
   "metadata": {},
   "outputs": [
    {
     "data": {
      "text/plain": [
       "True"
      ]
     },
     "execution_count": 16,
     "metadata": {},
     "output_type": "execute_result"
    }
   ],
   "source": [
    "from bs4 import BeautifulSoup\n",
    "import requests\n",
    "import pandas as pd\n",
    "import numpy as np\n",
    "from time import sleep\n",
    "from selenium import webdriver  \n",
    "from selenium.webdriver.common.by import By\n",
    "import re\n",
    "import sys\n",
    "import os\n",
    "sys.path.append(os.path.abspath('../'))\n",
    "from src import soporte_adri as sc\n",
    "import dotenv \n",
    "dotenv.load_dotenv()"
   ]
  },
  {
   "cell_type": "code",
   "execution_count": 17,
   "metadata": {},
   "outputs": [],
   "source": [
    "driver = webdriver.Chrome()\n",
    "url = 'https://www.pontemasfuerte.com'\n",
    "driver.get(url)\n",
    "driver.maximize_window()                                    #maximizo ventana\n",
    "driver.find_element(By.CSS_SELECTOR, '#button1').click()        #boton cookies\n",
    "sleep(5)\n",
    "driver.find_element(By.XPATH, '//*[@id=\"vue-welcome-modal\"]/div/div/header/p[2]').click()           #click ventana de cabecera\n",
    "sleep(5)\n",
    "driver.find_element(By.CSS_SELECTOR, '#pmfmenubar > div > div > ul > li:nth-child(1) > a').click()  #click todos los productos\n",
    "#click para ver mas productos, podempos darle las veces que queramos...\n",
    "driver.find_element(By.CSS_SELECTOR, '#wrapper > main > div.row.product-list > div > div.row > div.medium-8.large-10.columns > div:nth-child(6) > div > div > div').click()\n",
    "sleep(5)\n",
    "driver.find_element(By.CSS_SELECTOR, '#wrapper > main > div.row.product-list > div > div.row > div.medium-8.large-10.columns > div:nth-child(6) > div > div > div > span').click()\n",
    "sleep(5)\n",
    "driver.find_element(By.CSS_SELECTOR, '#wrapper > main > div.row.product-list > div > div.row > div.medium-8.large-10.columns > div:nth-child(6) > div > div > div > span').click()\n",
    "sleep(5)\n",
    "driver.find_element(By.CSS_SELECTOR, '#wrapper > main > div.row.product-list > div > div.row > div.medium-8.large-10.columns > div:nth-child(6) > div > div > div > span').click()\n",
    "\n",
    "html_page = driver.page_source\n",
    "sopa = BeautifulSoup(html_page)"
   ]
  },
  {
   "cell_type": "code",
   "execution_count": 3,
   "metadata": {},
   "outputs": [],
   "source": [
    "Sopa_produc = sopa.findAll('div', class_ = 'item-lista not_mobile')\n"
   ]
  },
  {
   "cell_type": "code",
   "execution_count": 4,
   "metadata": {},
   "outputs": [],
   "source": [
    "lista_productos = sc.scrap_fuerte(Sopa_produc)\n"
   ]
  },
  {
   "cell_type": "code",
   "execution_count": 5,
   "metadata": {},
   "outputs": [
    {
     "data": {
      "text/plain": [
       "[' Whey Pure Fusion 2.3 Kg ',\n",
       " '76.30',\n",
       " '(127)',\n",
       " 'Whey Pure Fusion de Amix es una proteína obtenida de aislado y concentrado de suero de una gran calidad con un alto contenido en aminoácidos ramificados y esenciales. Se trata de un proteína pura con una cantidad reducida de grasa y un bajo aporte de calorías. ',\n",
       " '4.7']"
      ]
     },
     "execution_count": 5,
     "metadata": {},
     "output_type": "execute_result"
    }
   ],
   "source": [
    "lista_productos[1]"
   ]
  },
  {
   "cell_type": "code",
   "execution_count": 6,
   "metadata": {},
   "outputs": [],
   "source": [
    "lista_productos\n",
    "df = pd.DataFrame(lista_productos, columns=[\"Nombre y peso\", \"Precio\", \"cantidad de reseñas\",\"decripcion\",'rating'])"
   ]
  },
  {
   "cell_type": "code",
   "execution_count": 7,
   "metadata": {},
   "outputs": [],
   "source": [
    "df[['Nombre', 'Peso']] = df['Nombre y peso'].str.extract(r'(.+)\\s(\\d+\\s\\w+)') \n",
    "#Eliminamos  la columna original 'Nombre y peso' \n",
    "df = df.drop(columns=['Nombre y peso'])"
   ]
  },
  {
   "cell_type": "code",
   "execution_count": 8,
   "metadata": {},
   "outputs": [
    {
     "data": {
      "text/html": [
       "<div>\n",
       "<style scoped>\n",
       "    .dataframe tbody tr th:only-of-type {\n",
       "        vertical-align: middle;\n",
       "    }\n",
       "\n",
       "    .dataframe tbody tr th {\n",
       "        vertical-align: top;\n",
       "    }\n",
       "\n",
       "    .dataframe thead th {\n",
       "        text-align: right;\n",
       "    }\n",
       "</style>\n",
       "<table border=\"1\" class=\"dataframe\">\n",
       "  <thead>\n",
       "    <tr style=\"text-align: right;\">\n",
       "      <th></th>\n",
       "      <th>Precio</th>\n",
       "      <th>cantidad de reseñas</th>\n",
       "      <th>decripcion</th>\n",
       "      <th>rating</th>\n",
       "      <th>Nombre</th>\n",
       "      <th>Peso</th>\n",
       "    </tr>\n",
       "  </thead>\n",
       "  <tbody>\n",
       "    <tr>\n",
       "      <th>0</th>\n",
       "      <td>69.90</td>\n",
       "      <td>(14)</td>\n",
       "      <td>Real IsolatePRO presenta un elevado porcentaje...</td>\n",
       "      <td>4.4</td>\n",
       "      <td>Real IsolatePRO</td>\n",
       "      <td>2 Kg</td>\n",
       "    </tr>\n",
       "    <tr>\n",
       "      <th>1</th>\n",
       "      <td>76.30</td>\n",
       "      <td>(127)</td>\n",
       "      <td>Whey Pure Fusion de Amix es una proteína obten...</td>\n",
       "      <td>4.7</td>\n",
       "      <td>NaN</td>\n",
       "      <td>NaN</td>\n",
       "    </tr>\n",
       "    <tr>\n",
       "      <th>2</th>\n",
       "      <td>29.90</td>\n",
       "      <td>(51)</td>\n",
       "      <td>PurePRO Creatine es el suplemento perfecto par...</td>\n",
       "      <td>4.7</td>\n",
       "      <td>PurePRO Creatine (Creapure®)</td>\n",
       "      <td>500 gr</td>\n",
       "    </tr>\n",
       "    <tr>\n",
       "      <th>3</th>\n",
       "      <td>91.80</td>\n",
       "      <td>(193)</td>\n",
       "      <td>IsoPrime CFM Whey Isolate de Amix es una de la...</td>\n",
       "      <td>4.8</td>\n",
       "      <td>Isoprime CFM Isolate</td>\n",
       "      <td>2 Kg</td>\n",
       "    </tr>\n",
       "    <tr>\n",
       "      <th>4</th>\n",
       "      <td>16.92</td>\n",
       "      <td>(1)</td>\n",
       "      <td>El suplemento L-Carnitine Pro de la marca PROF...</td>\n",
       "      <td>5.0</td>\n",
       "      <td>L-Carnitine Pro 3000 20 Serv. x</td>\n",
       "      <td>15 ml</td>\n",
       "    </tr>\n",
       "  </tbody>\n",
       "</table>\n",
       "</div>"
      ],
      "text/plain": [
       "  Precio cantidad de reseñas  \\\n",
       "0  69.90                (14)   \n",
       "1  76.30               (127)   \n",
       "2  29.90                (51)   \n",
       "3  91.80               (193)   \n",
       "4  16.92                 (1)   \n",
       "\n",
       "                                          decripcion rating  \\\n",
       "0  Real IsolatePRO presenta un elevado porcentaje...    4.4   \n",
       "1  Whey Pure Fusion de Amix es una proteína obten...    4.7   \n",
       "2  PurePRO Creatine es el suplemento perfecto par...    4.7   \n",
       "3  IsoPrime CFM Whey Isolate de Amix es una de la...    4.8   \n",
       "4  El suplemento L-Carnitine Pro de la marca PROF...    5.0   \n",
       "\n",
       "                             Nombre    Peso  \n",
       "0                   Real IsolatePRO    2 Kg  \n",
       "1                               NaN     NaN  \n",
       "2      PurePRO Creatine (Creapure®)  500 gr  \n",
       "3              Isoprime CFM Isolate    2 Kg  \n",
       "4   L-Carnitine Pro 3000 20 Serv. x   15 ml  "
      ]
     },
     "execution_count": 8,
     "metadata": {},
     "output_type": "execute_result"
    }
   ],
   "source": [
    "df.head()"
   ]
  },
  {
   "cell_type": "code",
   "execution_count": 9,
   "metadata": {},
   "outputs": [],
   "source": [
    "df['cantidad de reseñas'] = df['cantidad de reseñas'].str.replace(r'[()]', '', regex=True)"
   ]
  },
  {
   "cell_type": "code",
   "execution_count": 10,
   "metadata": {},
   "outputs": [],
   "source": [
    "df['Precio'] = df['Precio'].astype(float) \n",
    "df['cantidad de reseñas'] = df['cantidad de reseñas'].astype(float) \n",
    "df['rating'] = df['rating'].astype(float)"
   ]
  },
  {
   "cell_type": "code",
   "execution_count": 11,
   "metadata": {},
   "outputs": [
    {
     "data": {
      "text/html": [
       "<div>\n",
       "<style scoped>\n",
       "    .dataframe tbody tr th:only-of-type {\n",
       "        vertical-align: middle;\n",
       "    }\n",
       "\n",
       "    .dataframe tbody tr th {\n",
       "        vertical-align: top;\n",
       "    }\n",
       "\n",
       "    .dataframe thead th {\n",
       "        text-align: right;\n",
       "    }\n",
       "</style>\n",
       "<table border=\"1\" class=\"dataframe\">\n",
       "  <thead>\n",
       "    <tr style=\"text-align: right;\">\n",
       "      <th></th>\n",
       "      <th>Precio</th>\n",
       "      <th>cantidad de reseñas</th>\n",
       "      <th>decripcion</th>\n",
       "      <th>rating</th>\n",
       "      <th>Nombre</th>\n",
       "      <th>Peso</th>\n",
       "    </tr>\n",
       "  </thead>\n",
       "  <tbody>\n",
       "    <tr>\n",
       "      <th>0</th>\n",
       "      <td>69.9</td>\n",
       "      <td>14.0</td>\n",
       "      <td>Real IsolatePRO presenta un elevado porcentaje...</td>\n",
       "      <td>4.4</td>\n",
       "      <td>Real IsolatePRO</td>\n",
       "      <td>2 Kg</td>\n",
       "    </tr>\n",
       "  </tbody>\n",
       "</table>\n",
       "</div>"
      ],
      "text/plain": [
       "   Precio  cantidad de reseñas  \\\n",
       "0    69.9                 14.0   \n",
       "\n",
       "                                          decripcion  rating  \\\n",
       "0  Real IsolatePRO presenta un elevado porcentaje...     4.4   \n",
       "\n",
       "             Nombre  Peso  \n",
       "0   Real IsolatePRO  2 Kg  "
      ]
     },
     "execution_count": 11,
     "metadata": {},
     "output_type": "execute_result"
    }
   ],
   "source": [
    "df.head(1)"
   ]
  },
  {
   "cell_type": "code",
   "execution_count": 12,
   "metadata": {},
   "outputs": [],
   "source": [
    "df[['Peso', 'Unidad']] = df['Peso'].str.extract(r'(\\d+)\\s*(\\w+)')\n",
    "df['Peso'] = df['Peso'].astype(float)"
   ]
  },
  {
   "cell_type": "code",
   "execution_count": 13,
   "metadata": {},
   "outputs": [],
   "source": [
    "df['Peso'] = df['Peso'].fillna(0)"
   ]
  },
  {
   "cell_type": "code",
   "execution_count": 14,
   "metadata": {},
   "outputs": [
    {
     "data": {
      "text/html": [
       "<div>\n",
       "<style scoped>\n",
       "    .dataframe tbody tr th:only-of-type {\n",
       "        vertical-align: middle;\n",
       "    }\n",
       "\n",
       "    .dataframe tbody tr th {\n",
       "        vertical-align: top;\n",
       "    }\n",
       "\n",
       "    .dataframe thead th {\n",
       "        text-align: right;\n",
       "    }\n",
       "</style>\n",
       "<table border=\"1\" class=\"dataframe\">\n",
       "  <thead>\n",
       "    <tr style=\"text-align: right;\">\n",
       "      <th></th>\n",
       "      <th>Precio</th>\n",
       "      <th>cantidad de reseñas</th>\n",
       "      <th>decripcion</th>\n",
       "      <th>rating</th>\n",
       "      <th>Nombre</th>\n",
       "      <th>Peso</th>\n",
       "      <th>Unidad</th>\n",
       "    </tr>\n",
       "  </thead>\n",
       "  <tbody>\n",
       "    <tr>\n",
       "      <th>0</th>\n",
       "      <td>69.90</td>\n",
       "      <td>14.0</td>\n",
       "      <td>Real IsolatePRO presenta un elevado porcentaje...</td>\n",
       "      <td>4.4</td>\n",
       "      <td>Real IsolatePRO</td>\n",
       "      <td>2.0</td>\n",
       "      <td>Kg</td>\n",
       "    </tr>\n",
       "    <tr>\n",
       "      <th>1</th>\n",
       "      <td>76.30</td>\n",
       "      <td>127.0</td>\n",
       "      <td>Whey Pure Fusion de Amix es una proteína obten...</td>\n",
       "      <td>4.7</td>\n",
       "      <td>NaN</td>\n",
       "      <td>0.0</td>\n",
       "      <td>NaN</td>\n",
       "    </tr>\n",
       "    <tr>\n",
       "      <th>2</th>\n",
       "      <td>29.90</td>\n",
       "      <td>51.0</td>\n",
       "      <td>PurePRO Creatine es el suplemento perfecto par...</td>\n",
       "      <td>4.7</td>\n",
       "      <td>PurePRO Creatine (Creapure®)</td>\n",
       "      <td>500.0</td>\n",
       "      <td>gr</td>\n",
       "    </tr>\n",
       "    <tr>\n",
       "      <th>3</th>\n",
       "      <td>91.80</td>\n",
       "      <td>193.0</td>\n",
       "      <td>IsoPrime CFM Whey Isolate de Amix es una de la...</td>\n",
       "      <td>4.8</td>\n",
       "      <td>Isoprime CFM Isolate</td>\n",
       "      <td>2.0</td>\n",
       "      <td>Kg</td>\n",
       "    </tr>\n",
       "    <tr>\n",
       "      <th>4</th>\n",
       "      <td>16.92</td>\n",
       "      <td>1.0</td>\n",
       "      <td>El suplemento L-Carnitine Pro de la marca PROF...</td>\n",
       "      <td>5.0</td>\n",
       "      <td>L-Carnitine Pro 3000 20 Serv. x</td>\n",
       "      <td>15.0</td>\n",
       "      <td>ml</td>\n",
       "    </tr>\n",
       "    <tr>\n",
       "      <th>...</th>\n",
       "      <td>...</td>\n",
       "      <td>...</td>\n",
       "      <td>...</td>\n",
       "      <td>...</td>\n",
       "      <td>...</td>\n",
       "      <td>...</td>\n",
       "      <td>...</td>\n",
       "    </tr>\n",
       "    <tr>\n",
       "      <th>95</th>\n",
       "      <td>27.16</td>\n",
       "      <td>17.0</td>\n",
       "      <td>Iso Whey Zero de Biotech USA es un suplemento ...</td>\n",
       "      <td>4.8</td>\n",
       "      <td>Iso Whey Zero</td>\n",
       "      <td>500.0</td>\n",
       "      <td>gr</td>\n",
       "    </tr>\n",
       "    <tr>\n",
       "      <th>96</th>\n",
       "      <td>36.95</td>\n",
       "      <td>2.0</td>\n",
       "      <td>Total Recovery de Victory Endurance es un post...</td>\n",
       "      <td>4.5</td>\n",
       "      <td>Total Recovery</td>\n",
       "      <td>1250.0</td>\n",
       "      <td>gr</td>\n",
       "    </tr>\n",
       "    <tr>\n",
       "      <th>97</th>\n",
       "      <td>33.90</td>\n",
       "      <td>5.0</td>\n",
       "      <td>Micellar Casein de Big es una caseína micelar ...</td>\n",
       "      <td>5.0</td>\n",
       "      <td>Micellar Casein</td>\n",
       "      <td>1.0</td>\n",
       "      <td>Kg</td>\n",
       "    </tr>\n",
       "    <tr>\n",
       "      <th>98</th>\n",
       "      <td>34.51</td>\n",
       "      <td>35.0</td>\n",
       "      <td>100% Whey Protein Professional de Scitec Nutri...</td>\n",
       "      <td>4.6</td>\n",
       "      <td>100% Whey Protein Professional</td>\n",
       "      <td>920.0</td>\n",
       "      <td>gr</td>\n",
       "    </tr>\n",
       "    <tr>\n",
       "      <th>99</th>\n",
       "      <td>114.90</td>\n",
       "      <td>74.0</td>\n",
       "      <td>100% Whey Protein Professional de Scitec Nutri...</td>\n",
       "      <td>4.9</td>\n",
       "      <td>100% Whey Protein Professional</td>\n",
       "      <td>5.0</td>\n",
       "      <td>Kg</td>\n",
       "    </tr>\n",
       "  </tbody>\n",
       "</table>\n",
       "<p>100 rows × 7 columns</p>\n",
       "</div>"
      ],
      "text/plain": [
       "    Precio  cantidad de reseñas  \\\n",
       "0    69.90                 14.0   \n",
       "1    76.30                127.0   \n",
       "2    29.90                 51.0   \n",
       "3    91.80                193.0   \n",
       "4    16.92                  1.0   \n",
       "..     ...                  ...   \n",
       "95   27.16                 17.0   \n",
       "96   36.95                  2.0   \n",
       "97   33.90                  5.0   \n",
       "98   34.51                 35.0   \n",
       "99  114.90                 74.0   \n",
       "\n",
       "                                           decripcion  rating  \\\n",
       "0   Real IsolatePRO presenta un elevado porcentaje...     4.4   \n",
       "1   Whey Pure Fusion de Amix es una proteína obten...     4.7   \n",
       "2   PurePRO Creatine es el suplemento perfecto par...     4.7   \n",
       "3   IsoPrime CFM Whey Isolate de Amix es una de la...     4.8   \n",
       "4   El suplemento L-Carnitine Pro de la marca PROF...     5.0   \n",
       "..                                                ...     ...   \n",
       "95  Iso Whey Zero de Biotech USA es un suplemento ...     4.8   \n",
       "96  Total Recovery de Victory Endurance es un post...     4.5   \n",
       "97  Micellar Casein de Big es una caseína micelar ...     5.0   \n",
       "98  100% Whey Protein Professional de Scitec Nutri...     4.6   \n",
       "99  100% Whey Protein Professional de Scitec Nutri...     4.9   \n",
       "\n",
       "                              Nombre    Peso Unidad  \n",
       "0                    Real IsolatePRO     2.0     Kg  \n",
       "1                                NaN     0.0    NaN  \n",
       "2       PurePRO Creatine (Creapure®)   500.0     gr  \n",
       "3               Isoprime CFM Isolate     2.0     Kg  \n",
       "4    L-Carnitine Pro 3000 20 Serv. x    15.0     ml  \n",
       "..                               ...     ...    ...  \n",
       "95                     Iso Whey Zero   500.0     gr  \n",
       "96                    Total Recovery  1250.0     gr  \n",
       "97                   Micellar Casein     1.0     Kg  \n",
       "98    100% Whey Protein Professional   920.0     gr  \n",
       "99    100% Whey Protein Professional     5.0     Kg  \n",
       "\n",
       "[100 rows x 7 columns]"
      ]
     },
     "execution_count": 14,
     "metadata": {},
     "output_type": "execute_result"
    }
   ],
   "source": [
    "df"
   ]
  },
  {
   "cell_type": "code",
   "execution_count": 15,
   "metadata": {},
   "outputs": [],
   "source": [
    "df.to_csv('../datos/datos_scrap_fuerte.csv', index=False)"
   ]
  },
  {
   "cell_type": "code",
   "execution_count": null,
   "metadata": {},
   "outputs": [],
   "source": []
  }
 ],
 "metadata": {
  "kernelspec": {
   "display_name": "Python 3",
   "language": "python",
   "name": "python3"
  },
  "language_info": {
   "codemirror_mode": {
    "name": "ipython",
    "version": 3
   },
   "file_extension": ".py",
   "mimetype": "text/x-python",
   "name": "python",
   "nbconvert_exporter": "python",
   "pygments_lexer": "ipython3",
   "version": "3.12.6"
  }
 },
 "nbformat": 4,
 "nbformat_minor": 2
}
